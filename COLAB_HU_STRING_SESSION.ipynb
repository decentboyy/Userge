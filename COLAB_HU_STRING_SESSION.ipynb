{
  "nbformat": 4,
  "nbformat_minor": 0,
  "metadata": {
    "colab": {
      "name": "COLAB_HU_STRING_SESSION.ipynb",
      "provenance": [],
      "authorship_tag": "ABX9TyMVGeNfpkPL4RCIIE2PToQ5",
      "include_colab_link": true
    },
    "kernelspec": {
      "name": "python3",
      "display_name": "Python 3"
    }
  },
  "cells": [
    {
      "cell_type": "markdown",
      "metadata": {
        "id": "view-in-github",
        "colab_type": "text"
      },
      "source": [
        "<a href=\"https://colab.research.google.com/github/ravana69/Userge/blob/alpha/COLAB_HU_STRING_SESSION.ipynb\" target=\"_parent\"><img src=\"https://colab.research.google.com/assets/colab-badge.svg\" alt=\"Open In Colab\"/></a>"
      ]
    },
    {
      "cell_type": "markdown",
      "metadata": {
        "id": "x81hy0Eo3gZ4",
        "colab_type": "text"
      },
      "source": [
        "**HU_STRING_SESSION FOR USERGE REPOSITORY**"
      ]
    },
    {
      "cell_type": "markdown",
      "metadata": {
        "id": "EWWP-fpv31aI",
        "colab_type": "text"
      },
      "source": [
        "THE CODE BELOW GENERATES THE HU_STRING SESSION....\n",
        "IF YOU WANT TO RERUN THE SESSION CLICK ON THE CLEAR REPOSITORY BUTTON"
      ]
    },
    {
      "cell_type": "markdown",
      "metadata": {
        "id": "2KrqSbVX4Jw6",
        "colab_type": "text"
      },
      "source": [
        "**👇RUN** ***SESSION👇***"
      ]
    },
    {
      "cell_type": "code",
      "metadata": {
        "id": "Gm_dhsdW2yPR",
        "colab_type": "code",
        "colab": {}
      },
      "source": [
        "!apt install python git && git clone https://github.com/ravana69/Userge && cd Userge && pip install -U https://github.com/pyrogram/pyrogram/archive/asyncio-dev.zip TgCrypto python-dotenv && python tools/genStrSession.py"
      ],
      "execution_count": null,
      "outputs": []
    },
    {
      "cell_type": "markdown",
      "metadata": {
        "id": "2ihc1ud94k1f",
        "colab_type": "text"
      },
      "source": [
        "**👇CLEAR SESSION FROM COLAB👇**"
      ]
    },
    {
      "cell_type": "code",
      "metadata": {
        "id": "nqN0O6zk3TUZ",
        "colab_type": "code",
        "colab": {}
      },
      "source": [
        "rm -rf Userge"
      ],
      "execution_count": null,
      "outputs": []
    },
    {
      "cell_type": "markdown",
      "metadata": {
        "id": "ShC6UKKS4vdw",
        "colab_type": "text"
      },
      "source": [
        "\n",
        "\n",
        "\n",
        "\n",
        "\n",
        "\n",
        "\n",
        "\n",
        "**REGARDS :** **@R4V4N4** "
      ]
    }
  ]
}
